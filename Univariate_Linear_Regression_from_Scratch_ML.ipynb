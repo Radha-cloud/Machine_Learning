{
 "cells": [
  {
   "cell_type": "code",
   "execution_count": 1,
   "metadata": {},
   "outputs": [],
   "source": [
    "import numpy as np\n",
    "length = 50000\n",
    "mar_x = np.random.randint(10000, 500000, size = (length,1))"
   ]
  },
  {
   "cell_type": "code",
   "execution_count": 2,
   "metadata": {},
   "outputs": [
    {
     "data": {
      "text/plain": [
       "array([[ 699851],\n",
       "       [4195181],\n",
       "       [3811531],\n",
       "       ...,\n",
       "       [3089731],\n",
       "       [ 173651],\n",
       "       [1528331]])"
      ]
     },
     "execution_count": 2,
     "metadata": {},
     "output_type": "execute_result"
    }
   ],
   "source": [
    "m = 10\n",
    "c = 21\n",
    "y_a = m*mar_x + c\n",
    "y_a"
   ]
  },
  {
   "cell_type": "code",
   "execution_count": 3,
   "metadata": {},
   "outputs": [],
   "source": [
    "m = 10\n",
    "c = 21\n",
    "y_a = m*mar_x + c\n",
    "noise = np.random.randint(10,100, size = (length, 1))\n",
    "y_a = y_a + noise"
   ]
  },
  {
   "cell_type": "code",
   "execution_count": 5,
   "metadata": {},
   "outputs": [
    {
     "data": {
      "text/plain": [
       "<matplotlib.collections.PathCollection at 0x12156f510>"
      ]
     },
     "execution_count": 5,
     "metadata": {},
     "output_type": "execute_result"
    },
    {
     "data": {
      "image/png": "[encoded data removed]",
      "text/plain": [
       "<Figure size 432x288 with 1 Axes>"
      ]
     },
     "metadata": {
      "needs_background": "light"
     },
     "output_type": "display_data"
    }
   ],
   "source": [
    "import matplotlib.pyplot as plt\n",
    "plt.scatter(mar_x, y_a)"
   ]
  },
  {
   "cell_type": "code",
   "execution_count": 6,
   "metadata": {},
   "outputs": [],
   "source": [
    "m = 10\n",
    "c = 21\n",
    "y_a = m * mar_x + c\n",
    "noise = np.random.randint(1000,100000, size = (length, 1))  \n",
    "y_a = y_a + noise"
   ]
  },
  {
   "cell_type": "code",
   "execution_count": 8,
   "metadata": {},
   "outputs": [
    {
     "data": {
      "text/plain": [
       "<matplotlib.collections.PathCollection at 0x12174a150>"
      ]
     },
     "execution_count": 8,
     "metadata": {},
     "output_type": "execute_result"
    },
    {
     "data": {
      "image/png": "[encoded data removed]",
      "text/plain": [
       "<Figure size 432x288 with 1 Axes>"
      ]
     },
     "metadata": {
      "needs_background": "light"
     },
     "output_type": "display_data"
    }
   ],
   "source": [
    "import matplotlib.pyplot as plt\n",
    "plt.scatter(mar_x[0:100], y_a[0:100]) "
   ]
  },
  {
   "cell_type": "code",
   "execution_count": 9,
   "metadata": {},
   "outputs": [
    {
     "data": {
      "text/plain": [
       "[<matplotlib.lines.Line2D at 0x1218921d0>]"
      ]
     },
     "execution_count": 9,
     "metadata": {},
     "output_type": "execute_result"
    },
    {
     "data": {
      "image/png": "[encoded data removed]",
      "text/plain": [
       "<Figure size 432x288 with 1 Axes>"
      ]
     },
     "metadata": {
      "needs_background": "light"
     },
     "output_type": "display_data"
    }
   ],
   "source": [
    "import matplotlib.pyplot as plt\n",
    "plt.plot(mar_x[0:100], y_a[0:100])  "
   ]
  },
  {
   "cell_type": "code",
   "execution_count": 10,
   "metadata": {},
   "outputs": [
    {
     "data": {
      "text/plain": [
       "array([[ 699851],\n",
       "       [4195181],\n",
       "       [3811531],\n",
       "       ...,\n",
       "       [3089731],\n",
       "       [ 173651],\n",
       "       [1528331]])"
      ]
     },
     "execution_count": 10,
     "metadata": {},
     "output_type": "execute_result"
    }
   ],
   "source": [
    "def line(m,mar_x,c):\n",
    "    return m*mar_x + c\n",
    "\n",
    "def error(m,mar_x,c,y_a):\n",
    "    y_p = line(m,mar_x,c)\n",
    "    return np.mean((y_p - y_a)**2)\n",
    "\n",
    "line(m, mar_x, c)"
   ]
  },
  {
   "cell_type": "code",
   "execution_count": 11,
   "metadata": {},
   "outputs": [
    {
     "data": {
      "text/plain": [
       "(50000, 1)"
      ]
     },
     "execution_count": 11,
     "metadata": {},
     "output_type": "execute_result"
    }
   ],
   "source": [
    "line(m, mar_x, c).shape"
   ]
  },
  {
   "cell_type": "code",
   "execution_count": 12,
   "metadata": {},
   "outputs": [],
   "source": [
    "m = 10\n",
    "c = 21\n",
    "y_a = m*mar_x + c\n",
    "noise = np.random.randn(length, 1) \n",
    "y_a = y_a + noise"
   ]
  },
  {
   "cell_type": "code",
   "execution_count": 14,
   "metadata": {},
   "outputs": [
    {
     "data": {
      "text/plain": [
       "1.008362349607377"
      ]
     },
     "execution_count": 14,
     "metadata": {},
     "output_type": "execute_result"
    }
   ],
   "source": [
    "def line(m,mar_x,c):\n",
    "    return m*mar_x + c\n",
    "\n",
    "def error(m,mar_x,c,y_a):\n",
    "    y_p = line(m,mar_x,c)\n",
    "    return np.mean((y_p - y_a)**2)\n",
    "\n",
    "error(m, mar_x, c, y_a)"
   ]
  },
  {
   "cell_type": "code",
   "execution_count": 15,
   "metadata": {},
   "outputs": [
    {
     "data": {
      "text/plain": [
       "1.008362349607377"
      ]
     },
     "execution_count": 15,
     "metadata": {},
     "output_type": "execute_result"
    }
   ],
   "source": [
    "def line(m,mar_x,c):\n",
    "    return m*mar_x + c\n",
    "\n",
    "def error(m,mar_x,c,y_a):\n",
    "    y_p = line(m,mar_x,c)\n",
    "    return np.mean((y_p - y_a)**2)\n",
    "\n",
    "def derivative_m(m,mar_x,c,y_a):\n",
    "    y_p = line(m,mar_x, c)\n",
    "    return 2*np.mean((y_p - y_a)*mar_x)\n",
    "\n",
    "def derivative_c(m,mar_x,c,y_a):\n",
    "    y_p = line(m,mar_x, c)\n",
    "    return 2*np.mean((y_p - y_a))\n",
    "\n",
    "error(m,mar_x,c,y_a)"
   ]
  },
  {
   "cell_type": "code",
   "execution_count": 16,
   "metadata": {},
   "outputs": [
    {
     "data": {
      "text/plain": [
       "-0.00020410628249519506"
      ]
     },
     "execution_count": 16,
     "metadata": {},
     "output_type": "execute_result"
    }
   ],
   "source": [
    "def line(m,mar_x,c):\n",
    "    return m*mar_x + c\n",
    "\n",
    "def error(m,mar_x,c,y_a):\n",
    "    y_p = line(m,mar_x,c)\n",
    "    return np.mean((y_p - y_a)**2)\n",
    "\n",
    "def derivative_m(m,mar_x,c,y_a):\n",
    "    y_p = line(m,mar_x, c)\n",
    "    return 2*np.mean((y_p - y_a)*mar_x)\n",
    "\n",
    "def derivative_c(m,mar_x,c,y_a):\n",
    "    y_p = line(m,mar_x, c)\n",
    "    return 2*np.mean((y_p - y_a))\n",
    "\n",
    "derivative_c(m,mar_x,c,y_a)"
   ]
  },
  {
   "cell_type": "raw",
   "metadata": {},
   "source": [
    "//m_r = np.random.randn()  //These statements will give uniform random values.\n",
    "//c_r = np.random.randn()"
   ]
  },
  {
   "cell_type": "code",
   "execution_count": 17,
   "metadata": {},
   "outputs": [
    {
     "data": {
      "text/plain": [
       "0.22272270917829828"
      ]
     },
     "execution_count": 17,
     "metadata": {},
     "output_type": "execute_result"
    }
   ],
   "source": [
    "import random\n",
    "m_r = random.random()\n",
    "c_r = random.random()\n",
    "m_r"
   ]
  },
  {
   "cell_type": "code",
   "execution_count": 23,
   "metadata": {},
   "outputs": [
    {
     "name": "stdout",
     "output_type": "stream",
     "text": [
      "Initial error: 6915557605971.839\n",
      "Ended due to error\n",
      "Final error: 22.85939400185265 Iterations: 72\n",
      "Final Parameters: M: 9.99998052155232 C: 23.179585516376118\n"
     ]
    },
    {
     "data": {
      "text/plain": [
       "[<matplotlib.lines.Line2D at 0x121fcac90>]"
      ]
     },
     "execution_count": 23,
     "metadata": {},
     "output_type": "execute_result"
    },
    {
     "data": {
      "image/png": "[encoded data removed]",
      "text/plain": [
       "<Figure size 432x288 with 1 Axes>"
      ]
     },
     "metadata": {
      "needs_background": "light"
     },
     "output_type": "display_data"
    }
   ],
   "source": [
    "#To implement gradient descent will use loop\n",
    "import random\n",
    "m_r = random.random()\n",
    "c_r = random.random()\n",
    "print(\"Initial error:\", error(m_r, mar_x, c_r, y_a))\n",
    "\n",
    "lr_m = 0.000000000001\n",
    "lr_c = 0.000001\n",
    "i = 0\n",
    "er_list = []\n",
    "while(True):\n",
    "    er = error(m_r, mar_x, c_r, y_a)\n",
    "    #print(\"Current error:\", er, \"Iterations:\", i)\n",
    "    er_list.append(er)\n",
    "    m_r = m_r - lr_m*derivative_m(m_r, mar_x, c_r, y_a)\n",
    "    c_r = c_r - lr_c*derivative_c(m_r, mar_x, c_r, y_a)\n",
    "    i+=1\n",
    "    if(i>=500):\n",
    "        print(\"Ended due to iterations\")\n",
    "        break\n",
    "    if(er <=25):\n",
    "        print(\"Ended due to error\")\n",
    "        break\n",
    "        \n",
    "print(\"Final error:\", er, \"Iterations:\", i)\n",
    "print(\"Final Parameters:\", \"M:\", m_r, \"C:\", c_r)\n",
    "plt.plot(er_list)"
   ]
  },
  {
   "cell_type": "code",
   "execution_count": null,
   "metadata": {},
   "outputs": [],
   "source": []
  }
 ],
 "metadata": {
  "kernelspec": {
   "display_name": "Python 3",
   "language": "python",
   "name": "python3"
  },
  "language_info": {
   "codemirror_mode": {
    "name": "ipython",
    "version": 3
   },
   "file_extension": ".py",
   "mimetype": "text/x-python",
   "name": "python",
   "nbconvert_exporter": "python",
   "pygments_lexer": "ipython3",
   "version": "3.7.4"
  }
 },
 "nbformat": 4,
 "nbformat_minor": 2
}
